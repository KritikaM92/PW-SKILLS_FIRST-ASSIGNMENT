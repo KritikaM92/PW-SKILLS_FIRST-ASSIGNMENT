{
 "cells": [
  {
   "cell_type": "code",
   "execution_count": 1,
   "id": "3c0872b5-a5f2-4d3d-b8c3-2a0ba534233c",
   "metadata": {},
   "outputs": [],
   "source": [
    "#Assignment 1\n",
    "#Q2. Describe the role of predefined keywords in Python and provide examples of how they are used in a program."
   ]
  },
  {
   "cell_type": "code",
   "execution_count": null,
   "id": "187958b7-9bc6-43c3-87be-ca13d462ad3d",
   "metadata": {},
   "outputs": [],
   "source": [
    "#Predefined Keywords are some predefined and reserved words in Python that have special meanings. \n",
    "#Used for special purpose .Such keywords are used to define the syntax of the coding. \n",
    "#The keyword cannot be used as an identifier, function, or variable name."
   ]
  },
  {
   "cell_type": "code",
   "execution_count": 2,
   "id": "e7e67f52-5ad6-4e9a-b20d-58c9fbac7e5b",
   "metadata": {},
   "outputs": [
    {
     "name": "stdout",
     "output_type": "stream",
     "text": [
      "Hello World\n"
     ]
    }
   ],
   "source": [
    "#Example 1\n",
    "print (\"Hello World\") #print is a predefined keyword in python."
   ]
  },
  {
   "cell_type": "code",
   "execution_count": 3,
   "id": "9cb06eb0-d49b-4344-b248-2888e470bbce",
   "metadata": {},
   "outputs": [
    {
     "name": "stdout",
     "output_type": "stream",
     "text": [
      "a is less than b\n"
     ]
    }
   ],
   "source": [
    "#Example 2\n",
    "a=2\n",
    "b=3\n",
    "if (a<b):# if is a predefined keyword in Python.\n",
    "    print (\"a is less than b\") "
   ]
  },
  {
   "cell_type": "code",
   "execution_count": null,
   "id": "42eed6ec-ca9b-44d2-8df2-addaab41e220",
   "metadata": {},
   "outputs": [],
   "source": [
    "#a and b are variables defined by the user .\n",
    "#Variables are placeholders where we keep variety of data to write a logic."
   ]
  },
  {
   "cell_type": "code",
   "execution_count": 4,
   "id": "d94fe1df-504a-4c74-bd20-49b5b365615f",
   "metadata": {},
   "outputs": [],
   "source": [
    "#Q3.Compare and contrast mutable and immutable objects in Python with examples."
   ]
  },
  {
   "cell_type": "code",
   "execution_count": 5,
   "id": "7c563e48-6a31-4a3f-8b33-4b046ee234cb",
   "metadata": {},
   "outputs": [],
   "source": [
    "#A3.\n",
    "#Objects or containers whose state or value can be changed after they are created are called mutable objects. \n",
    "#List is a mutable object."
   ]
  },
  {
   "cell_type": "code",
   "execution_count": 6,
   "id": "1f3ca545-9307-4da3-9c8b-23d769c65dd3",
   "metadata": {},
   "outputs": [
    {
     "name": "stdout",
     "output_type": "stream",
     "text": [
      "[1, 2, 3, 'Naman', (2+4j), 'True']\n"
     ]
    }
   ],
   "source": [
    "#Example\n",
    "list_1=[1,2,3,\"Kritika\",2+4j,\"True\"]\n",
    "list_1[3]=\"Naman\"\n",
    "print (list_1)"
   ]
  },
  {
   "cell_type": "code",
   "execution_count": 7,
   "id": "8234f62c-8976-4e9f-bd5f-f463cdc80c78",
   "metadata": {},
   "outputs": [],
   "source": [
    "#Objects or containers whose state or value cannot be changed after they are created are called immutable objects. \n",
    "#Strings are immutable objects/does not support item assignment."
   ]
  },
  {
   "cell_type": "code",
   "execution_count": 9,
   "id": "70600d94-bb23-4ed3-b632-bec2ca7e563b",
   "metadata": {},
   "outputs": [
    {
     "ename": "TypeError",
     "evalue": "'str' object does not support item assignment",
     "output_type": "error",
     "traceback": [
      "\u001b[0;31m---------------------------------------------------------------------------\u001b[0m",
      "\u001b[0;31mTypeError\u001b[0m                                 Traceback (most recent call last)",
      "Cell \u001b[0;32mIn[9], line 3\u001b[0m\n\u001b[1;32m      1\u001b[0m \u001b[38;5;66;03m#Example\u001b[39;00m\n\u001b[1;32m      2\u001b[0m a\u001b[38;5;241m=\u001b[39m\u001b[38;5;124m\"\u001b[39m\u001b[38;5;124mKritika\u001b[39m\u001b[38;5;124m\"\u001b[39m\n\u001b[0;32m----> 3\u001b[0m \u001b[43ma\u001b[49m\u001b[43m[\u001b[49m\u001b[38;5;241;43m2\u001b[39;49m\u001b[43m]\u001b[49m\u001b[38;5;241m=\u001b[39m\u001b[38;5;124m\"\u001b[39m\u001b[38;5;124ma\u001b[39m\u001b[38;5;124m\"\u001b[39m\n",
      "\u001b[0;31mTypeError\u001b[0m: 'str' object does not support item assignment"
     ]
    }
   ],
   "source": [
    "#Example\n",
    "a=\"Kritika\"\n",
    "a[2]=\"a\""
   ]
  },
  {
   "cell_type": "code",
   "execution_count": 10,
   "id": "2ac2ba2c-589f-4775-9f0f-abcb77da912d",
   "metadata": {},
   "outputs": [],
   "source": [
    "#Q4.Discuss the different types of operators in Python and provide examples of how they are used."
   ]
  },
  {
   "cell_type": "code",
   "execution_count": 12,
   "id": "04ac9e52-17e7-4d52-b70a-a00ebe477e92",
   "metadata": {},
   "outputs": [],
   "source": [
    "#A4.\n",
    "#Operators are special keywords or symbols used to perform operations on values and variables.\n",
    "#This is done to do computation and make decisions using data.\n",
    "#Arithmetic Operators\n",
    "#Comparison operators\n",
    "#Logical Operators\n",
    "#Bitwise Operators\n",
    "#Assignment Operators\n",
    "#Membership Operator\n",
    "#Identity Operators"
   ]
  },
  {
   "cell_type": "code",
   "execution_count": 13,
   "id": "3df95f2a-6d20-4fc8-acd6-018c8629c3cc",
   "metadata": {},
   "outputs": [
    {
     "data": {
      "text/plain": [
       "12"
      ]
     },
     "execution_count": 13,
     "metadata": {},
     "output_type": "execute_result"
    }
   ],
   "source": [
    "#Example >> Arithematic Operator\n",
    "a=10\n",
    "b=2\n",
    "a+b #+is an arithematic operator"
   ]
  },
  {
   "cell_type": "code",
   "execution_count": 15,
   "id": "85e90af5-d1dd-4aa9-858f-7e827389c6c3",
   "metadata": {},
   "outputs": [
    {
     "data": {
      "text/plain": [
       "0"
      ]
     },
     "execution_count": 15,
     "metadata": {},
     "output_type": "execute_result"
    }
   ],
   "source": [
    "#Modulus operator>>arithematic operator\n",
    "a%b"
   ]
  },
  {
   "cell_type": "code",
   "execution_count": 1,
   "id": "691d608b-342b-4e6c-a1cf-0e3c4d19b0ac",
   "metadata": {},
   "outputs": [
    {
     "data": {
      "text/plain": [
       "32"
      ]
     },
     "execution_count": 1,
     "metadata": {},
     "output_type": "execute_result"
    }
   ],
   "source": [
    "2**5 #2 to the power 5"
   ]
  },
  {
   "cell_type": "code",
   "execution_count": 2,
   "id": "eddb1b43-f391-4193-a3be-d0439685b49d",
   "metadata": {},
   "outputs": [
    {
     "data": {
      "text/plain": [
       "1.3333333333333333"
      ]
     },
     "execution_count": 2,
     "metadata": {},
     "output_type": "execute_result"
    }
   ],
   "source": [
    "#floor operator#>> // two forward slash is used to get neart lower value without decimal\n",
    "4/3"
   ]
  },
  {
   "cell_type": "code",
   "execution_count": 3,
   "id": "017c9bee-d2aa-4eb2-99f3-2fe16139090f",
   "metadata": {},
   "outputs": [
    {
     "data": {
      "text/plain": [
       "1"
      ]
     },
     "execution_count": 3,
     "metadata": {},
     "output_type": "execute_result"
    }
   ],
   "source": [
    "4//3"
   ]
  },
  {
   "cell_type": "code",
   "execution_count": 14,
   "id": "f5ce8156-dc9a-47fb-93d0-4b2e9a9abebb",
   "metadata": {},
   "outputs": [
    {
     "data": {
      "text/plain": [
       "True"
      ]
     },
     "execution_count": 14,
     "metadata": {},
     "output_type": "execute_result"
    }
   ],
   "source": [
    "#Example >> Comparison Operator<< compares values to return a boolean value\n",
    "a>b #> is a comparison operator"
   ]
  },
  {
   "cell_type": "code",
   "execution_count": 4,
   "id": "570aab03-70b1-422a-8686-dff851e9f962",
   "metadata": {},
   "outputs": [
    {
     "data": {
      "text/plain": [
       "True"
      ]
     },
     "execution_count": 4,
     "metadata": {},
     "output_type": "execute_result"
    }
   ],
   "source": [
    "2==2"
   ]
  },
  {
   "cell_type": "code",
   "execution_count": 6,
   "id": "b306218a-f0c3-4d78-9305-a2d7623857a3",
   "metadata": {},
   "outputs": [
    {
     "data": {
      "text/plain": [
       "1"
      ]
     },
     "execution_count": 6,
     "metadata": {},
     "output_type": "execute_result"
    }
   ],
   "source": [
    "#Example >> Logical Operator <<#and ,or\n",
    "True- False"
   ]
  },
  {
   "cell_type": "code",
   "execution_count": 7,
   "id": "06c68236-e20a-4699-8e4b-d3ccd6cf0231",
   "metadata": {},
   "outputs": [
    {
     "data": {
      "text/plain": [
       "0"
      ]
     },
     "execution_count": 7,
     "metadata": {},
     "output_type": "execute_result"
    }
   ],
   "source": [
    "False- False"
   ]
  },
  {
   "cell_type": "code",
   "execution_count": 1,
   "id": "3e75c04c-1cec-4988-94be-4e40037a0415",
   "metadata": {},
   "outputs": [
    {
     "data": {
      "text/plain": [
       "0"
      ]
     },
     "execution_count": 1,
     "metadata": {},
     "output_type": "execute_result"
    }
   ],
   "source": [
    "True-True"
   ]
  },
  {
   "cell_type": "code",
   "execution_count": 9,
   "id": "0afea9e2-a67e-45bc-8042-8e1c8d1fd8f1",
   "metadata": {},
   "outputs": [
    {
     "data": {
      "text/plain": [
       "-1"
      ]
     },
     "execution_count": 9,
     "metadata": {},
     "output_type": "execute_result"
    }
   ],
   "source": [
    "False- True"
   ]
  },
  {
   "cell_type": "code",
   "execution_count": 2,
   "id": "efb3a654-d2a4-46a4-9808-39ff4f0f9817",
   "metadata": {},
   "outputs": [
    {
     "data": {
      "text/plain": [
       "True"
      ]
     },
     "execution_count": 2,
     "metadata": {},
     "output_type": "execute_result"
    }
   ],
   "source": [
    "#AND OPERATOR\n",
    "True and True"
   ]
  },
  {
   "cell_type": "code",
   "execution_count": 3,
   "id": "c66b5879-d9c3-4f1d-becf-1b476628826f",
   "metadata": {},
   "outputs": [
    {
     "data": {
      "text/plain": [
       "False"
      ]
     },
     "execution_count": 3,
     "metadata": {},
     "output_type": "execute_result"
    }
   ],
   "source": [
    "True and False"
   ]
  },
  {
   "cell_type": "code",
   "execution_count": 4,
   "id": "3657eb3a-eb37-4d61-920a-55ea7f88f5ba",
   "metadata": {},
   "outputs": [
    {
     "data": {
      "text/plain": [
       "False"
      ]
     },
     "execution_count": 4,
     "metadata": {},
     "output_type": "execute_result"
    }
   ],
   "source": [
    "False and True"
   ]
  },
  {
   "cell_type": "code",
   "execution_count": 5,
   "id": "3bd16bd5-0f9d-4d24-b8fe-fe11a96767c1",
   "metadata": {},
   "outputs": [
    {
     "data": {
      "text/plain": [
       "False"
      ]
     },
     "execution_count": 5,
     "metadata": {},
     "output_type": "execute_result"
    }
   ],
   "source": [
    "False and False"
   ]
  },
  {
   "cell_type": "code",
   "execution_count": 6,
   "id": "17d4c3c5-d9d2-481f-b6a6-b74a5e759160",
   "metadata": {},
   "outputs": [
    {
     "data": {
      "text/plain": [
       "True"
      ]
     },
     "execution_count": 6,
     "metadata": {},
     "output_type": "execute_result"
    }
   ],
   "source": [
    "#OR OPERATOR\n",
    "True or True"
   ]
  },
  {
   "cell_type": "code",
   "execution_count": 7,
   "id": "1f23f49f-9ec7-4e8e-a66f-493d466c5b74",
   "metadata": {},
   "outputs": [
    {
     "data": {
      "text/plain": [
       "True"
      ]
     },
     "execution_count": 7,
     "metadata": {},
     "output_type": "execute_result"
    }
   ],
   "source": [
    "True or False"
   ]
  },
  {
   "cell_type": "code",
   "execution_count": 8,
   "id": "6bc2d02b-5520-429c-9938-1bcd793814e5",
   "metadata": {},
   "outputs": [
    {
     "data": {
      "text/plain": [
       "True"
      ]
     },
     "execution_count": 8,
     "metadata": {},
     "output_type": "execute_result"
    }
   ],
   "source": [
    "False or True"
   ]
  },
  {
   "cell_type": "code",
   "execution_count": 9,
   "id": "0ab886c1-efeb-496e-bbcd-c082954bbc9d",
   "metadata": {},
   "outputs": [
    {
     "data": {
      "text/plain": [
       "False"
      ]
     },
     "execution_count": 9,
     "metadata": {},
     "output_type": "execute_result"
    }
   ],
   "source": [
    "False or False"
   ]
  },
  {
   "cell_type": "code",
   "execution_count": 11,
   "id": "830ab701-7c66-4483-81e2-4836f8e44dd9",
   "metadata": {},
   "outputs": [
    {
     "data": {
      "text/plain": [
       "15"
      ]
     },
     "execution_count": 11,
     "metadata": {},
     "output_type": "execute_result"
    }
   ],
   "source": [
    "# Examples<< Assignment operator\n",
    "a=10\n",
    "a+=5\n",
    "a"
   ]
  },
  {
   "cell_type": "code",
   "execution_count": 14,
   "id": "a5a5772e-c9d7-42a1-b0bd-883e578af017",
   "metadata": {},
   "outputs": [
    {
     "data": {
      "text/plain": [
       "1"
      ]
     },
     "execution_count": 14,
     "metadata": {},
     "output_type": "execute_result"
    }
   ],
   "source": [
    "b=4\n",
    "b//=3\n",
    "b"
   ]
  },
  {
   "cell_type": "code",
   "execution_count": 18,
   "id": "14ed6c46-2b4b-442d-8005-be92dd39223d",
   "metadata": {},
   "outputs": [
    {
     "data": {
      "text/plain": [
       "True"
      ]
     },
     "execution_count": 18,
     "metadata": {},
     "output_type": "execute_result"
    }
   ],
   "source": [
    "#Examples << Membership Operator\n",
    "c=\"Kritika\"\n",
    "\"i\" in c"
   ]
  },
  {
   "cell_type": "code",
   "execution_count": 20,
   "id": "7cc16eed-2c25-4dc7-85d2-31e0b8031995",
   "metadata": {},
   "outputs": [
    {
     "data": {
      "text/plain": [
       "False"
      ]
     },
     "execution_count": 20,
     "metadata": {},
     "output_type": "execute_result"
    }
   ],
   "source": [
    "\"e\" in c"
   ]
  },
  {
   "cell_type": "code",
   "execution_count": 21,
   "id": "b01b39c2-d8ff-494d-81bf-9c24f2494629",
   "metadata": {},
   "outputs": [
    {
     "data": {
      "text/plain": [
       "False"
      ]
     },
     "execution_count": 21,
     "metadata": {},
     "output_type": "execute_result"
    }
   ],
   "source": [
    "#Examples << Identity Operator\n",
    "a=2\n",
    "b=5\n",
    "a is b"
   ]
  },
  {
   "cell_type": "code",
   "execution_count": 22,
   "id": "67301cc8-fdd6-4530-938d-ee31d9e0990d",
   "metadata": {},
   "outputs": [
    {
     "data": {
      "text/plain": [
       "True"
      ]
     },
     "execution_count": 22,
     "metadata": {},
     "output_type": "execute_result"
    }
   ],
   "source": [
    "a is not b"
   ]
  },
  {
   "cell_type": "code",
   "execution_count": 23,
   "id": "7b392111-01bd-4005-9779-775c430a7ba8",
   "metadata": {},
   "outputs": [
    {
     "data": {
      "text/plain": [
       "True"
      ]
     },
     "execution_count": 23,
     "metadata": {},
     "output_type": "execute_result"
    }
   ],
   "source": [
    "a=5\n",
    "a=b\n",
    "a is b"
   ]
  },
  {
   "cell_type": "code",
   "execution_count": 24,
   "id": "a2974d95-6839-409f-afc6-1e293ec59bb9",
   "metadata": {},
   "outputs": [
    {
     "data": {
      "text/plain": [
       "False"
      ]
     },
     "execution_count": 24,
     "metadata": {},
     "output_type": "execute_result"
    }
   ],
   "source": [
    "a is not b"
   ]
  },
  {
   "cell_type": "code",
   "execution_count": 25,
   "id": "648e8b1a-eb7b-435a-8599-3f15224dc2eb",
   "metadata": {},
   "outputs": [
    {
     "data": {
      "text/plain": [
       "0"
      ]
     },
     "execution_count": 25,
     "metadata": {},
     "output_type": "execute_result"
    }
   ],
   "source": [
    "#Examples <<Bitwise Operator\n",
    "10&5"
   ]
  },
  {
   "cell_type": "code",
   "execution_count": 26,
   "id": "217198b0-d3fe-4bf8-9baf-80a1845eace1",
   "metadata": {},
   "outputs": [
    {
     "data": {
      "text/plain": [
       "'0b1010'"
      ]
     },
     "execution_count": 26,
     "metadata": {},
     "output_type": "execute_result"
    }
   ],
   "source": [
    "bin(10)"
   ]
  },
  {
   "cell_type": "code",
   "execution_count": 27,
   "id": "f5011ad7-31a9-4c81-977d-080696343407",
   "metadata": {},
   "outputs": [
    {
     "data": {
      "text/plain": [
       "'0b101'"
      ]
     },
     "execution_count": 27,
     "metadata": {},
     "output_type": "execute_result"
    }
   ],
   "source": [
    "bin (5)"
   ]
  },
  {
   "cell_type": "code",
   "execution_count": 28,
   "id": "be838058-04ff-46ad-bff5-5d84850b9c8b",
   "metadata": {},
   "outputs": [
    {
     "data": {
      "text/plain": [
       "-6"
      ]
     },
     "execution_count": 28,
     "metadata": {},
     "output_type": "execute_result"
    }
   ],
   "source": [
    "#negation\n",
    "~5"
   ]
  },
  {
   "cell_type": "code",
   "execution_count": 29,
   "id": "0562a2ed-ba36-4bf1-b4f5-0972386b2494",
   "metadata": {},
   "outputs": [
    {
     "data": {
      "text/plain": [
       "-10"
      ]
     },
     "execution_count": 29,
     "metadata": {},
     "output_type": "execute_result"
    }
   ],
   "source": [
    "~9"
   ]
  },
  {
   "cell_type": "code",
   "execution_count": 30,
   "id": "0af6cf94-fd2c-4f3c-924f-6b1cbc4f2076",
   "metadata": {},
   "outputs": [
    {
     "data": {
      "text/plain": [
       "3"
      ]
     },
     "execution_count": 30,
     "metadata": {},
     "output_type": "execute_result"
    }
   ],
   "source": [
    "#bitwise xor operator << returns 1 when either of the operator is exactly 1\n",
    "12^ 15"
   ]
  },
  {
   "cell_type": "code",
   "execution_count": 31,
   "id": "4080f1c6-04a3-4b92-a98a-6d14e86048b9",
   "metadata": {},
   "outputs": [
    {
     "data": {
      "text/plain": [
       "'0b1100'"
      ]
     },
     "execution_count": 31,
     "metadata": {},
     "output_type": "execute_result"
    }
   ],
   "source": [
    "bin(12)"
   ]
  },
  {
   "cell_type": "code",
   "execution_count": 32,
   "id": "23f87d2e-9a0c-432b-b16a-ac3ce89d9d37",
   "metadata": {},
   "outputs": [
    {
     "data": {
      "text/plain": [
       "'0b1111'"
      ]
     },
     "execution_count": 32,
     "metadata": {},
     "output_type": "execute_result"
    }
   ],
   "source": [
    "bin(15)"
   ]
  },
  {
   "cell_type": "code",
   "execution_count": 34,
   "id": "c9121383-faec-4f95-98db-6daa5f379e92",
   "metadata": {},
   "outputs": [],
   "source": [
    "#Shift operator << Shifts the bits of an integer either left or right by a specified number of positions\n",
    "#Left Shift Operator is denoted by \"<<\"\n",
    "#Right Shift operator is denoted by \">>\""
   ]
  },
  {
   "cell_type": "code",
   "execution_count": 35,
   "id": "d5bcb5a0-99af-476d-aa63-1ce9f85da2b7",
   "metadata": {},
   "outputs": [
    {
     "data": {
      "text/plain": [
       "5"
      ]
     },
     "execution_count": 35,
     "metadata": {},
     "output_type": "execute_result"
    }
   ],
   "source": [
    "45>>3"
   ]
  },
  {
   "cell_type": "code",
   "execution_count": 36,
   "id": "982099fe-5b16-42b4-9dca-bcf37d712178",
   "metadata": {},
   "outputs": [
    {
     "data": {
      "text/plain": [
       "'0b101101'"
      ]
     },
     "execution_count": 36,
     "metadata": {},
     "output_type": "execute_result"
    }
   ],
   "source": [
    "bin(45)"
   ]
  },
  {
   "cell_type": "code",
   "execution_count": 37,
   "id": "7fcb46ed-2346-4113-8251-8f76838f1a8d",
   "metadata": {},
   "outputs": [
    {
     "data": {
      "text/plain": [
       "'0b101'"
      ]
     },
     "execution_count": 37,
     "metadata": {},
     "output_type": "execute_result"
    }
   ],
   "source": [
    "bin (5)"
   ]
  },
  {
   "cell_type": "code",
   "execution_count": 38,
   "id": "e8538669-13d1-4e43-ae8c-b02db5aa3d51",
   "metadata": {},
   "outputs": [],
   "source": [
    "# Q5.Explain the concept of typecasting in Python with examples.\n",
    "#While executing or computing a code in Python there can be a mismatch in the datatypes.\n",
    "# Typecasting is used to change the data type of a value or object."
   ]
  },
  {
   "cell_type": "code",
   "execution_count": 39,
   "id": "40879dc2-41fd-4d89-90ee-6695ace6863f",
   "metadata": {},
   "outputs": [
    {
     "ename": "TypeError",
     "evalue": "can only concatenate str (not \"int\") to str",
     "output_type": "error",
     "traceback": [
      "\u001b[0;31m---------------------------------------------------------------------------\u001b[0m",
      "\u001b[0;31mTypeError\u001b[0m                                 Traceback (most recent call last)",
      "Cell \u001b[0;32mIn[39], line 3\u001b[0m\n\u001b[1;32m      1\u001b[0m a\u001b[38;5;241m=\u001b[39m\u001b[38;5;124m\"\u001b[39m\u001b[38;5;124m2\u001b[39m\u001b[38;5;124m\"\u001b[39m\n\u001b[1;32m      2\u001b[0m b\u001b[38;5;241m=\u001b[39m\u001b[38;5;241m7\u001b[39m\n\u001b[0;32m----> 3\u001b[0m \u001b[43ma\u001b[49m\u001b[38;5;241;43m+\u001b[39;49m\u001b[43mb\u001b[49m\n",
      "\u001b[0;31mTypeError\u001b[0m: can only concatenate str (not \"int\") to str"
     ]
    }
   ],
   "source": [
    "a=\"2\"\n",
    "b=7\n",
    "a+b"
   ]
  },
  {
   "cell_type": "code",
   "execution_count": 40,
   "id": "720719fa-b235-4f1c-80f4-80f2fa6e686d",
   "metadata": {},
   "outputs": [
    {
     "data": {
      "text/plain": [
       "9"
      ]
     },
     "execution_count": 40,
     "metadata": {},
     "output_type": "execute_result"
    }
   ],
   "source": [
    "int(a)+b"
   ]
  },
  {
   "cell_type": "code",
   "execution_count": 41,
   "id": "b829ebd1-eabd-4296-9347-48012868b707",
   "metadata": {},
   "outputs": [
    {
     "data": {
      "text/plain": [
       "str"
      ]
     },
     "execution_count": 41,
     "metadata": {},
     "output_type": "execute_result"
    }
   ],
   "source": [
    "type (a)"
   ]
  },
  {
   "cell_type": "code",
   "execution_count": 44,
   "id": "64a32c14-055e-4e9f-998b-068184ea9078",
   "metadata": {},
   "outputs": [
    {
     "data": {
      "text/plain": [
       "float"
      ]
     },
     "execution_count": 44,
     "metadata": {},
     "output_type": "execute_result"
    }
   ],
   "source": [
    "a=5.8\n",
    "type (a)"
   ]
  },
  {
   "cell_type": "code",
   "execution_count": 45,
   "id": "fb044763-bb48-4239-a9f2-56db43aadac7",
   "metadata": {},
   "outputs": [
    {
     "data": {
      "text/plain": [
       "5"
      ]
     },
     "execution_count": 45,
     "metadata": {},
     "output_type": "execute_result"
    }
   ],
   "source": [
    "int (a) #changed float to integer"
   ]
  },
  {
   "cell_type": "code",
   "execution_count": 47,
   "id": "d9fb3a22-5bd5-4ea7-b90b-75de1e84ebd5",
   "metadata": {},
   "outputs": [
    {
     "data": {
      "text/plain": [
       "str"
      ]
     },
     "execution_count": 47,
     "metadata": {},
     "output_type": "execute_result"
    }
   ],
   "source": [
    "b=\"Kritika\"\n",
    "type (b)"
   ]
  },
  {
   "cell_type": "code",
   "execution_count": 48,
   "id": "78aef130-781f-4a7a-9df4-9348cd24406b",
   "metadata": {},
   "outputs": [
    {
     "ename": "ValueError",
     "evalue": "invalid literal for int() with base 10: 'Kritika'",
     "output_type": "error",
     "traceback": [
      "\u001b[0;31m---------------------------------------------------------------------------\u001b[0m",
      "\u001b[0;31mValueError\u001b[0m                                Traceback (most recent call last)",
      "Cell \u001b[0;32mIn[48], line 1\u001b[0m\n\u001b[0;32m----> 1\u001b[0m \u001b[38;5;28;43mint\u001b[39;49m\u001b[43m(\u001b[49m\u001b[43mb\u001b[49m\u001b[43m)\u001b[49m\n",
      "\u001b[0;31mValueError\u001b[0m: invalid literal for int() with base 10: 'Kritika'"
     ]
    }
   ],
   "source": [
    "int(b) # character cannot be converted into a number/integer/float"
   ]
  },
  {
   "cell_type": "code",
   "execution_count": 49,
   "id": "40af08b9-ad14-4947-ba9c-97109a463c7b",
   "metadata": {},
   "outputs": [
    {
     "data": {
      "text/plain": [
       "int"
      ]
     },
     "execution_count": 49,
     "metadata": {},
     "output_type": "execute_result"
    }
   ],
   "source": [
    "#Implicit Type castig << Python understands the data types automatically\n",
    "#Explicit Type casting << You may sometimes require to tell the data type to python to conduct operations\n",
    "#Examples<< implicit Type casting\n",
    "a=5\n",
    "type(a)"
   ]
  },
  {
   "cell_type": "code",
   "execution_count": 50,
   "id": "61400401-7561-4680-b494-f82749426705",
   "metadata": {},
   "outputs": [
    {
     "data": {
      "text/plain": [
       "13"
      ]
     },
     "execution_count": 50,
     "metadata": {},
     "output_type": "execute_result"
    }
   ],
   "source": [
    "5+8"
   ]
  },
  {
   "cell_type": "code",
   "execution_count": 51,
   "id": "b47f7379-69b6-42ad-a683-c80884b0b234",
   "metadata": {},
   "outputs": [
    {
     "ename": "TypeError",
     "evalue": "can only concatenate str (not \"int\") to str",
     "output_type": "error",
     "traceback": [
      "\u001b[0;31m---------------------------------------------------------------------------\u001b[0m",
      "\u001b[0;31mTypeError\u001b[0m                                 Traceback (most recent call last)",
      "Cell \u001b[0;32mIn[51], line 4\u001b[0m\n\u001b[1;32m      2\u001b[0m a\u001b[38;5;241m=\u001b[39m\u001b[38;5;124m\"\u001b[39m\u001b[38;5;124m8\u001b[39m\u001b[38;5;124m\"\u001b[39m\n\u001b[1;32m      3\u001b[0m b\u001b[38;5;241m=\u001b[39m\u001b[38;5;241m5\u001b[39m\n\u001b[0;32m----> 4\u001b[0m \u001b[43ma\u001b[49m\u001b[38;5;241;43m+\u001b[39;49m\u001b[43mb\u001b[49m\n",
      "\u001b[0;31mTypeError\u001b[0m: can only concatenate str (not \"int\") to str"
     ]
    }
   ],
   "source": [
    "#Examples <<Explicit Type casting\n",
    "a=\"8\"\n",
    "b=5\n",
    "a+b #will give an error "
   ]
  },
  {
   "cell_type": "code",
   "execution_count": 52,
   "id": "971c1cf4-16ad-432c-b64a-c6b0f54602c5",
   "metadata": {},
   "outputs": [
    {
     "data": {
      "text/plain": [
       "13"
      ]
     },
     "execution_count": 52,
     "metadata": {},
     "output_type": "execute_result"
    }
   ],
   "source": [
    "int(a)+b"
   ]
  },
  {
   "cell_type": "code",
   "execution_count": 54,
   "id": "5620c7cf-42cf-4b55-bd43-700fe424be27",
   "metadata": {},
   "outputs": [
    {
     "data": {
      "text/plain": [
       "'Kritika Kanika'"
      ]
     },
     "execution_count": 54,
     "metadata": {},
     "output_type": "execute_result"
    }
   ],
   "source": [
    "a= \"Kritika\"\n",
    "b=\" Kanika\"\n",
    "a+b #this is called concatenation"
   ]
  },
  {
   "cell_type": "code",
   "execution_count": 55,
   "id": "0b8c7714-9a70-4aef-9c60-d378b12086a2",
   "metadata": {},
   "outputs": [
    {
     "data": {
      "text/plain": [
       "True"
      ]
     },
     "execution_count": 55,
     "metadata": {},
     "output_type": "execute_result"
    }
   ],
   "source": [
    "# Examples <<Boolean Data type\n",
    "bool(100)"
   ]
  },
  {
   "cell_type": "code",
   "execution_count": 56,
   "id": "b5634e27-40ff-4008-8c22-a42568e8ab4f",
   "metadata": {},
   "outputs": [
    {
     "data": {
      "text/plain": [
       "False"
      ]
     },
     "execution_count": 56,
     "metadata": {},
     "output_type": "execute_result"
    }
   ],
   "source": [
    "bool(0)"
   ]
  },
  {
   "cell_type": "code",
   "execution_count": 58,
   "id": "26708215-e718-4221-a85b-03b3cd74498a",
   "metadata": {},
   "outputs": [
    {
     "data": {
      "text/plain": [
       "False"
      ]
     },
     "execution_count": 58,
     "metadata": {},
     "output_type": "execute_result"
    }
   ],
   "source": [
    "bool(\"\")"
   ]
  },
  {
   "cell_type": "code",
   "execution_count": 59,
   "id": "bbacb225-7403-4f9f-b7b9-817cfbf5db08",
   "metadata": {},
   "outputs": [
    {
     "data": {
      "text/plain": [
       "True"
      ]
     },
     "execution_count": 59,
     "metadata": {},
     "output_type": "execute_result"
    }
   ],
   "source": [
    "bool(\"Kritika\")"
   ]
  },
  {
   "cell_type": "code",
   "execution_count": 61,
   "id": "8a251c73-ffc0-455a-8dd5-b7381fc39801",
   "metadata": {},
   "outputs": [],
   "source": [
    "#Q6.How do conditional statements work in Python? Illustrate with examples.\n",
    "#Conditional statements are a type of flow controls in Python which helps to code decision based on some preconditions.\n",
    "#if\n",
    "# if else\n",
    "#if elif else\n",
    "#nested if else\n"
   ]
  },
  {
   "cell_type": "code",
   "execution_count": 64,
   "id": "0161f615-2569-4ae9-8d2a-8f6fc88dcca8",
   "metadata": {},
   "outputs": [
    {
     "name": "stdout",
     "output_type": "stream",
     "text": [
      "a less than 100\n"
     ]
    }
   ],
   "source": [
    "#if statement << works with comparision statement\n",
    "a=50\n",
    "if a<100: #executes the if block if condition is true\n",
    "    print (\"a less than 100\")"
   ]
  },
  {
   "cell_type": "code",
   "execution_count": 65,
   "id": "f921648f-1fd9-4995-8d1a-a445c6498530",
   "metadata": {},
   "outputs": [
    {
     "name": "stdout",
     "output_type": "stream",
     "text": [
      "You are excellent\n"
     ]
    }
   ],
   "source": [
    " #in real life decisions are made based on multiple conditions\n",
    "Grade=\"a\"\n",
    "Co_Curr= True\n",
    "if (Grade==\"a\" ) and (Co_Curr== True):\n",
    "    print (\"You are excellent\")"
   ]
  },
  {
   "cell_type": "code",
   "execution_count": 66,
   "id": "1d973e8e-5c2b-4736-804e-a74a1ba39020",
   "metadata": {},
   "outputs": [
    {
     "name": "stdout",
     "output_type": "stream",
     "text": [
      "you will be served alcohol\n"
     ]
    }
   ],
   "source": [
    "#If else statement << In real life if one condition is not met you will do something else\n",
    "age=23\n",
    "if age>=18:\n",
    "    print (\"you will be served alcohol\")\n",
    "else :\n",
    "    print (\"You are not allowed in the bar\")"
   ]
  },
  {
   "cell_type": "code",
   "execution_count": 67,
   "id": "c2f9d43d-0530-4fdb-b4f7-6dc259160e35",
   "metadata": {},
   "outputs": [
    {
     "name": "stdout",
     "output_type": "stream",
     "text": [
      "You are not allowed in the bar\n"
     ]
    }
   ],
   "source": [
    "age=16\n",
    "if age>=18:\n",
    "    print (\"you will be served alcohol\")\n",
    "else :\n",
    "    print (\"You are not allowed in the bar\")"
   ]
  },
  {
   "cell_type": "code",
   "execution_count": 68,
   "id": "a844f013-8ef6-4d87-b213-f47c89b8982b",
   "metadata": {},
   "outputs": [
    {
     "name": "stdout",
     "output_type": "stream",
     "text": [
      "ODD\n"
     ]
    }
   ],
   "source": [
    "number=87\n",
    "if number%2==0:\n",
    "    print (\"Even\")\n",
    "else:\n",
    "    print (\"ODD\")"
   ]
  },
  {
   "cell_type": "code",
   "execution_count": 70,
   "id": "aa940f71-63e5-48c1-8fab-dbf89809afec",
   "metadata": {},
   "outputs": [
    {
     "name": "stdout",
     "output_type": "stream",
     "text": [
      "Grade b\n"
     ]
    }
   ],
   "source": [
    "#If elif else statement << in real life we can have multiple conditions\n",
    "score = 85\n",
    "if score>=90:\n",
    "    print (\"Grade a\")\n",
    "elif (80<=score<=90):\n",
    "    print (\"Grade b\")\n",
    "elif (70<=score<=80):\n",
    "    print (\"Grade c\")    \n",
    "elif (60<=score<=70):\n",
    "    print (\"Grade d\")\n",
    "elif (50<=score<=60):\n",
    "    print (\"Grade e\")\n",
    "elif (40<=score<=50):\n",
    "    print (\"Grade f\")"
   ]
  },
  {
   "cell_type": "code",
   "execution_count": 6,
   "id": "4805f708-7cad-4b2c-b6da-44a005fce633",
   "metadata": {},
   "outputs": [
    {
     "name": "stdin",
     "output_type": "stream",
     "text": [
      "Please enter your name kk\n",
      "Please enter your email kr@gmail.com\n",
      "Please enter your password \n"
     ]
    },
    {
     "name": "stdout",
     "output_type": "stream",
     "text": [
      "Login/ Registration is successful\n"
     ]
    }
   ],
   "source": [
    "#Nested IF Else\n",
    "name=input(\"Please enter your name\")\n",
    "email=input(\"Please enter your email\")\n",
    "password=input(\"Please enter your password\")\n",
    "\n",
    "if name == \" \":\n",
    "    print(\" Please enter a valid name, cannot be empty\")\n",
    "else:\n",
    "    if \"@\" not in email:\n",
    "        print (\"Please enter a valid email\")\n",
    "    else:\n",
    "        if len(password)<0:\n",
    "            print (\"no password entered, please provide a valid password\")\n",
    "        else:\n",
    "            print(\"Login/ Registration is successful\")\n",
    "    "
   ]
  },
  {
   "cell_type": "code",
   "execution_count": null,
   "id": "7bb40242-c0f4-4736-97db-1002648392b3",
   "metadata": {},
   "outputs": [],
   "source": [
    "#Q7.Describe the different types of loops in Python and their use cases with examples.\n",
    "#A7. It allows to execute a block of code repeatedly.\n",
    "#Types\n",
    "#while loop\n",
    "#for loop\n"
   ]
  },
  {
   "cell_type": "code",
   "execution_count": null,
   "id": "f76d8aaf-5dd1-42fa-8ed1-39311d2e81d4",
   "metadata": {},
   "outputs": [],
   "source": [
    "#While Loop<<repeatedly executes a block of code untill a condition is met\n",
    "#Syntax\n",
    "#while>> while is a leyword used for while loop"
   ]
  },
  {
   "cell_type": "code",
   "execution_count": 7,
   "id": "d5e17706-aeeb-4059-920f-14e0c5e233b1",
   "metadata": {},
   "outputs": [
    {
     "name": "stdout",
     "output_type": "stream",
     "text": [
      "1\n",
      "2\n",
      "3\n",
      "4\n",
      "5\n",
      "6\n"
     ]
    }
   ],
   "source": [
    "n=7\n",
    "i=1\n",
    "while i<n:\n",
    "    print (i)\n",
    "    i=i+1"
   ]
  },
  {
   "cell_type": "code",
   "execution_count": 8,
   "id": "3a2f2e20-bc3f-4037-97f5-46174ef08545",
   "metadata": {},
   "outputs": [
    {
     "name": "stdout",
     "output_type": "stream",
     "text": [
      "5\n",
      "4\n",
      "3\n",
      "2\n",
      "1\n"
     ]
    }
   ],
   "source": [
    "count=5\n",
    "while count>0:\n",
    "    print (count)\n",
    "    count=count-1"
   ]
  },
  {
   "cell_type": "code",
   "execution_count": 9,
   "id": "e892cee1-21a0-417d-a16c-29085935ccc5",
   "metadata": {},
   "outputs": [
    {
     "name": "stdout",
     "output_type": "stream",
     "text": [
      "1\n",
      "2\n"
     ]
    }
   ],
   "source": [
    "#Break statement << Breaks the Loop if the condition is met \n",
    "n=7\n",
    "i=1\n",
    "while i<n:\n",
    "    print (i)\n",
    "    i=i+1\n",
    "    if i==3:\n",
    "        break \n",
    "else:\n",
    "    print (\"This will be executed when the while loop is run successfully without any break\")"
   ]
  },
  {
   "cell_type": "code",
   "execution_count": 10,
   "id": "f88ea9bd-b2d1-4341-9aea-90c739712128",
   "metadata": {},
   "outputs": [
    {
     "name": "stdout",
     "output_type": "stream",
     "text": [
      "2\n",
      "4\n",
      "5\n",
      "6\n",
      "7\n",
      "This will be executed when the while loop is run successfully without any break\n"
     ]
    }
   ],
   "source": [
    "#Continuous Statement >> skip the iteration\n",
    "n=7\n",
    "i=1\n",
    "while i<n:\n",
    "    i=i+1\n",
    "    if i==3:\n",
    "        continue\n",
    "    print (i)\n",
    "else:\n",
    "    print (\"This will be executed when the while loop is run successfully without any break\")"
   ]
  },
  {
   "cell_type": "code",
   "execution_count": 11,
   "id": "8fc54fef-d2ad-4829-bd79-c702e9904614",
   "metadata": {},
   "outputs": [
    {
     "name": "stdout",
     "output_type": "stream",
     "text": [
      "p\n",
      "w\n",
      "s\n",
      "k\n",
      "i\n",
      "l\n",
      "l\n",
      "s\n"
     ]
    }
   ],
   "source": [
    "#For Loop >> iterate over a sequence of elements << list , string << sequential data\n",
    "for i in \"pwskills\":\n",
    "    print (i)"
   ]
  },
  {
   "cell_type": "code",
   "execution_count": 12,
   "id": "44fbfaab-cfc0-4909-b810-ffeda3e71c40",
   "metadata": {},
   "outputs": [
    {
     "name": "stdout",
     "output_type": "stream",
     "text": [
      "1\n",
      "2\n",
      "kritika\n"
     ]
    }
   ],
   "source": [
    "l= [1,2,\"kritika\",\"pwskills\"]\n",
    "for i in l:\n",
    "    print (i)\n",
    "    if i== \"kritika\":\n",
    "        break\n",
    "else:\n",
    "    print (\"this block will be executed if break statement is absent\")"
   ]
  },
  {
   "cell_type": "code",
   "execution_count": 13,
   "id": "cc77235b-ea82-4bb4-bba6-36129315900b",
   "metadata": {},
   "outputs": [
    {
     "name": "stdout",
     "output_type": "stream",
     "text": [
      "1\n",
      "2\n",
      "pwskills\n",
      "this block will be executed if break statement is absent\n"
     ]
    }
   ],
   "source": [
    "l= [1,2,\"kritika\",\"pwskills\"]\n",
    "for i in l:\n",
    "    if i== \"kritika\":\n",
    "        continue\n",
    "    print (i)\n",
    "else:\n",
    "    print (\"this block will be executed if break statement is absent\")"
   ]
  },
  {
   "cell_type": "code",
   "execution_count": 14,
   "id": "d69bc77c-ba44-428b-acdc-e971a76a8191",
   "metadata": {},
   "outputs": [
    {
     "name": "stdout",
     "output_type": "stream",
     "text": [
      "* \n",
      "* * \n",
      "* * * \n",
      "* * * * \n"
     ]
    }
   ],
   "source": [
    "row=1\n",
    "while row <=4:\n",
    "    col=1\n",
    "    while col<=row:\n",
    "        print(\"*\",end = \" \")\n",
    "        col=col+1\n",
    "    print()\n",
    "    row=row+1"
   ]
  },
  {
   "cell_type": "code",
   "execution_count": 15,
   "id": "97057776-d7ba-47dc-a6ed-c1b1a8508b43",
   "metadata": {},
   "outputs": [],
   "source": [
    "#internal homework\n",
    "#print a square of * using while loop"
   ]
  },
  {
   "cell_type": "code",
   "execution_count": 16,
   "id": "c8f5138a-eefb-4572-a138-4568a5eca444",
   "metadata": {},
   "outputs": [
    {
     "name": "stdout",
     "output_type": "stream",
     "text": [
      "* * * \n",
      "* * * \n",
      "* * * \n"
     ]
    }
   ],
   "source": [
    "for i in range(3):\n",
    "    for j in range(3):\n",
    "        print(\"*\", end=\" \")\n",
    "    print() "
   ]
  },
  {
   "cell_type": "code",
   "execution_count": 17,
   "id": "6975508e-63d5-4215-b0f7-353f00ee9994",
   "metadata": {},
   "outputs": [],
   "source": [
    "#End of assignment 1#"
   ]
  }
 ],
 "metadata": {
  "kernelspec": {
   "display_name": "Python 3 (ipykernel)",
   "language": "python",
   "name": "python3"
  },
  "language_info": {
   "codemirror_mode": {
    "name": "ipython",
    "version": 3
   },
   "file_extension": ".py",
   "mimetype": "text/x-python",
   "name": "python",
   "nbconvert_exporter": "python",
   "pygments_lexer": "ipython3",
   "version": "3.10.8"
  }
 },
 "nbformat": 4,
 "nbformat_minor": 5
}
